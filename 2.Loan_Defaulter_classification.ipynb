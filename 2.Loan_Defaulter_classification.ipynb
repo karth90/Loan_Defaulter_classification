{
  "nbformat": 4,
  "nbformat_minor": 0,
  "metadata": {
    "colab": {
      "name": "Loan_Defaulter_classification.ipynb",
      "provenance": [],
      "collapsed_sections": [],
      "toc_visible": true
    },
    "kernelspec": {
      "name": "python3",
      "display_name": "Python 3"
    }
  },
  "cells": [
    {
      "cell_type": "markdown",
      "metadata": {
        "id": "kiSiMuay5UB2",
        "colab_type": "text"
      },
      "source": [
        "## **This python notebook is used to train a model to identify a loan defaulter/charge off vs fully paid loan status for the loan dataset. **\n",
        "\n",
        "---\n",
        "\n"
      ]
    },
    {
      "cell_type": "code",
      "metadata": {
        "id": "kPUuNFVF58mf",
        "colab_type": "code",
        "colab": {}
      },
      "source": [
        "# Import basic data science packages\n",
        "import pandas as pd\n",
        "import seaborn as sns\n",
        "import numpy as np\n",
        "import matplotlib.pyplot as plt\n",
        "import matplotlib\n",
        "import time\n",
        "%matplotlib inline\n",
        "from sklearn import metrics, svm\n",
        "from sklearn.model_selection import train_test_split\n",
        "from sklearn.ensemble import RandomForestClassifier\n",
        "from sklearn.tree import DecisionTreeClassifier\n",
        "from xgboost import XGBClassifier\n",
        "from sklearn.model_selection import train_test_split\n",
        "from sklearn.metrics import accuracy_score\n",
        "import re\n",
        "import xgboost as xgb"
      ],
      "execution_count": 0,
      "outputs": []
    },
    {
      "cell_type": "code",
      "metadata": {
        "id": "L0JgwUau66Hs",
        "colab_type": "code",
        "colab": {}
      },
      "source": [
        "df = pd.read_csv(\"ML.csv\")\n",
        "df.shape\n",
        "df=df.drop(['Unnamed: 0'],axis=1)"
      ],
      "execution_count": 0,
      "outputs": []
    },
    {
      "cell_type": "markdown",
      "metadata": {
        "id": "7LDsiBanGf2l",
        "colab_type": "text"
      },
      "source": [
        "**Removing the Serial number column and converting the Loan_status column into a target variable with 1: Charged Off and 0:Fully paid. The data is split into testing(30%) and training(70%) with a stratified split using the target.**"
      ]
    },
    {
      "cell_type": "code",
      "metadata": {
        "id": "WPlRSio090pF",
        "colab_type": "code",
        "colab": {}
      },
      "source": [
        "from sklearn.model_selection import train_test_split\n",
        "def score_to_numeric(x):\n",
        "    if x=='Fully Paid':\n",
        "        return 0\n",
        "    if x=='Charged Off':\n",
        "        return 1\n",
        "df = df[df['loan_status']!='Current']\n",
        "df['Target'] = df['loan_status'].apply(score_to_numeric)\n",
        "df['Target']\n",
        "df = df.drop(['member_id','recoveries','collection_recovery_fee'], axis=1)\n",
        "regex = re.compile(r\"\\[|\\]|<\", re.IGNORECASE)\n",
        "df.columns = [regex.sub(\"_\", col) if any(x in str(col) for x in set(('[', ']', '<'))) else col for col in df.columns.values]\n",
        "X = df.drop(['loan_status','Target'], axis=1)\n",
        "y = df.pop('Target')\n",
        "X_train, X_test, y_train, y_test = train_test_split( X, y, test_size=0.30, random_state=42, stratify=y)"
      ],
      "execution_count": 0,
      "outputs": []
    },
    {
      "cell_type": "markdown",
      "metadata": {
        "id": "alrPUWhVHIYM",
        "colab_type": "text"
      },
      "source": [
        "**Training using a decision tree. Looks like accuracy is 100%. Testing accuracy is 94%. The model is clearly overfit.**"
      ]
    },
    {
      "cell_type": "code",
      "metadata": {
        "id": "kD_PekBe581L",
        "colab_type": "code",
        "colab": {
          "base_uri": "https://localhost:8080/",
          "height": 102
        },
        "outputId": "1bc39055-f90b-4f66-9b3e-5aa8fb5b646e"
      },
      "source": [
        "dt = DecisionTreeClassifier()\n",
        "dt.fit(X_train, y_train)\n",
        "\n",
        "print(\"Decision tree - Normal data set\")\n",
        "print(metrics.accuracy_score(y_train, dt.predict(X_train)))\n",
        "print(metrics.accuracy_score(y_test, dt.predict(X_test)))\n",
        "print(metrics.confusion_matrix(y_test, dt.predict(X_test)))"
      ],
      "execution_count": 94,
      "outputs": [
        {
          "output_type": "stream",
          "text": [
            "Decision tree - Normal data set\n",
            "1.0\n",
            "0.9437593276254811\n",
            "[[10517   357]\n",
            " [  359  1498]]\n"
          ],
          "name": "stdout"
        }
      ]
    },
    {
      "cell_type": "markdown",
      "metadata": {
        "id": "BLmURngqHO8A",
        "colab_type": "text"
      },
      "source": [
        "**Training the model using a xgboost classifier. There is a lot of variation between the test and train accuracies showing the problem of overfitting.**"
      ]
    },
    {
      "cell_type": "code",
      "metadata": {
        "id": "Q-6WUN7hBJxi",
        "colab_type": "code",
        "colab": {
          "base_uri": "https://localhost:8080/",
          "height": 136
        },
        "outputId": "b7b507e5-21b1-4ad0-f216-38a0170fe064"
      },
      "source": [
        "# fit model no training data\n",
        "model = XGBClassifier()\n",
        "model.fit(X_train, y_train)\n",
        "print(model)"
      ],
      "execution_count": 95,
      "outputs": [
        {
          "output_type": "stream",
          "text": [
            "XGBClassifier(base_score=0.5, booster='gbtree', colsample_bylevel=1,\n",
            "              colsample_bynode=1, colsample_bytree=1, gamma=0,\n",
            "              learning_rate=0.1, max_delta_step=0, max_depth=3,\n",
            "              min_child_weight=1, missing=None, n_estimators=100, n_jobs=1,\n",
            "              nthread=None, objective='binary:logistic', random_state=0,\n",
            "              reg_alpha=0, reg_lambda=1, scale_pos_weight=1, seed=None,\n",
            "              silent=None, subsample=1, verbosity=1)\n"
          ],
          "name": "stdout"
        }
      ]
    },
    {
      "cell_type": "code",
      "metadata": {
        "id": "2Z5hWhVB587t",
        "colab_type": "code",
        "colab": {
          "base_uri": "https://localhost:8080/",
          "height": 51
        },
        "outputId": "a0f815f0-71c5-4a84-93e1-ff3d0098de8f"
      },
      "source": [
        "y_pred = model.predict(X_train)\n",
        "accuracy = accuracy_score(y_train, y_train)\n",
        "print(\"Accuracy: %.2f%%\" % (accuracy * 100.0))\n",
        "\n",
        "# make predictions for test data\n",
        "y_pred = model.predict(X_test)\n",
        "accuracy = accuracy_score(y_test, y_pred)\n",
        "print(\"Accuracy: %.2f%%\" % (accuracy * 100.0))"
      ],
      "execution_count": 96,
      "outputs": [
        {
          "output_type": "stream",
          "text": [
            "Accuracy: 100.00%\n",
            "Accuracy: 94.41%\n"
          ],
          "name": "stdout"
        }
      ]
    },
    {
      "cell_type": "markdown",
      "metadata": {
        "id": "I_xJRF_4HcqI",
        "colab_type": "text"
      },
      "source": [
        "**Looking at the variable importance chart to restrict model training to the top variables. The feature engineered columns show up as important variables here.**"
      ]
    },
    {
      "cell_type": "code",
      "metadata": {
        "id": "I0dPcm2qE4MQ",
        "colab_type": "code",
        "colab": {
          "base_uri": "https://localhost:8080/",
          "height": 295
        },
        "outputId": "95ea90b5-a89b-4526-93c0-a10b77f6e677"
      },
      "source": [
        "xgb.plot_importance(model, max_num_features=15, height=0.8)\n",
        "plt.show()"
      ],
      "execution_count": 97,
      "outputs": [
        {
          "output_type": "display_data",
          "data": {
            "image/png": "[encoded data removed]",
            "text/plain": [
              "<Figure size 432x288 with 1 Axes>"
            ]
          },
          "metadata": {
            "tags": []
          }
        }
      ]
    },
    {
      "cell_type": "code",
      "metadata": {
        "id": "onaWezORGE1F",
        "colab_type": "code",
        "colab": {}
      },
      "source": [
        "X=X[['last_pymnt_amnt','installment','total_pymnt_inv','int_rate','loan_amnt','term__ 36 months','dti','purpose__small_business','days_since_issue','days_since_credit_pull']]\n",
        "#y = df.pop('loan_status')\n",
        "X_train, X_test, y_train, y_test = train_test_split( X, y, test_size=0.25, random_state=42, stratify=y)"
      ],
      "execution_count": 0,
      "outputs": []
    },
    {
      "cell_type": "markdown",
      "metadata": {
        "id": "-UGLU4xUHtFw",
        "colab_type": "text"
      },
      "source": [
        "**The model is trained on the reduced feature list. The accuracy is very similar to the model above suggesting that we can stick to using just the selected columns for modelling and scoring.**"
      ]
    },
    {
      "cell_type": "code",
      "metadata": {
        "id": "kV4baqQwJ2OU",
        "colab_type": "code",
        "colab": {
          "base_uri": "https://localhost:8080/",
          "height": 136
        },
        "outputId": "3f4ed7dd-2d3b-474c-e707-24ad0561786a"
      },
      "source": [
        "# fit model on training data\n",
        "model = XGBClassifier()\n",
        "model.fit(X_train, y_train)\n",
        "print(model)"
      ],
      "execution_count": 99,
      "outputs": [
        {
          "output_type": "stream",
          "text": [
            "XGBClassifier(base_score=0.5, booster='gbtree', colsample_bylevel=1,\n",
            "              colsample_bynode=1, colsample_bytree=1, gamma=0,\n",
            "              learning_rate=0.1, max_delta_step=0, max_depth=3,\n",
            "              min_child_weight=1, missing=None, n_estimators=100, n_jobs=1,\n",
            "              nthread=None, objective='binary:logistic', random_state=0,\n",
            "              reg_alpha=0, reg_lambda=1, scale_pos_weight=1, seed=None,\n",
            "              silent=None, subsample=1, verbosity=1)\n"
          ],
          "name": "stdout"
        }
      ]
    },
    {
      "cell_type": "code",
      "metadata": {
        "id": "bL8t7E_oJ2Qv",
        "colab_type": "code",
        "colab": {
          "base_uri": "https://localhost:8080/",
          "height": 51
        },
        "outputId": "ec24198f-a52b-4d96-fc50-83682f5b2caf"
      },
      "source": [
        "y_pred = model.predict(X_train)\n",
        "accuracy = accuracy_score(y_train, y_train)\n",
        "print(\"Accuracy: %.2f%%\" % (accuracy * 100.0))\n",
        "\n",
        "# make predictions for test data\n",
        "y_pred = model.predict(X_test)\n",
        "accuracy = accuracy_score(y_test, y_pred)\n",
        "print(\"Accuracy: %.2f%%\" % (accuracy * 100.0))"
      ],
      "execution_count": 100,
      "outputs": [
        {
          "output_type": "stream",
          "text": [
            "Accuracy: 100.00%\n",
            "Accuracy: 94.38%\n"
          ],
          "name": "stdout"
        }
      ]
    },
    {
      "cell_type": "code",
      "metadata": {
        "id": "GSLwwrUhJ2TS",
        "colab_type": "code",
        "colab": {
          "base_uri": "https://localhost:8080/",
          "height": 295
        },
        "outputId": "ef8d54be-32a7-4610-a8e1-8e8e5941c819"
      },
      "source": [
        "xgb.plot_importance(model, max_num_features=50, height=0.8)\n",
        "plt.show()"
      ],
      "execution_count": 101,
      "outputs": [
        {
          "output_type": "display_data",
          "data": {
            "image/png": "[encoded data removed]",
            "text/plain": [
              "<Figure size 432x288 with 1 Axes>"
            ]
          },
          "metadata": {
            "tags": []
          }
        }
      ]
    },
    {
      "cell_type": "markdown",
      "metadata": {
        "id": "8KSneK9DH6Ay",
        "colab_type": "text"
      },
      "source": [
        "**As the model seems to overfit, cross validation can be used to build multiple models during training and reduce the problem of overfitting on the training data.**"
      ]
    },
    {
      "cell_type": "code",
      "metadata": {
        "id": "2YGEbSnNKR39",
        "colab_type": "code",
        "colab": {}
      },
      "source": [
        "from sklearn.model_selection import KFold\n",
        "from sklearn.model_selection import cross_val_score"
      ],
      "execution_count": 0,
      "outputs": []
    },
    {
      "cell_type": "code",
      "metadata": {
        "id": "yfcZBk04RunZ",
        "colab_type": "code",
        "colab": {
          "base_uri": "https://localhost:8080/",
          "height": 51
        },
        "outputId": "f0f7c932-b713-4ec6-9b3f-eb76935496fa"
      },
      "source": [
        "xgtrain = xgb.DMatrix(X_train, label=y_train)"
      ],
      "execution_count": 104,
      "outputs": [
        {
          "output_type": "stream",
          "text": [
            "/usr/local/lib/python3.6/dist-packages/xgboost/core.py:587: FutureWarning: Series.base is deprecated and will be removed in a future version\n",
            "  if getattr(data, 'base', None) is not None and \\\n"
          ],
          "name": "stderr"
        }
      ]
    },
    {
      "cell_type": "code",
      "metadata": {
        "id": "wOwry5msa_E7",
        "colab_type": "code",
        "colab": {}
      },
      "source": [
        "clf = xgb.XGBClassifier(missing=9999999999,\n",
        "                max_depth = 5,\n",
        "                n_estimators=100,\n",
        "                learning_rate=0.1, \n",
        "                nthread=4,\n",
        "                subsample=0.8,\n",
        "                colsample_bytree=0.5,\n",
        "                min_child_weight = 3,\n",
        "                seed=1301)\n",
        "xgb_param = clf.get_xgb_params()"
      ],
      "execution_count": 0,
      "outputs": []
    },
    {
      "cell_type": "code",
      "metadata": {
        "id": "doQGxg6rbD66",
        "colab_type": "code",
        "colab": {
          "base_uri": "https://localhost:8080/",
          "height": 102
        },
        "outputId": "36d06baa-a40c-4e01-add4-4e84fa43407c"
      },
      "source": [
        "from sklearn.metrics import roc_auc_score\n",
        "print ('Start cross validation')\n",
        "cvresult = xgb.cv(xgb_param, xgtrain, num_boost_round=500, nfold=2, metrics=['auc'],\n",
        "     early_stopping_rounds=20, stratified=True, seed=1301)\n",
        "print('Best number of trees = {}'.format(cvresult.shape[0]))\n",
        "clf.set_params(n_estimators=cvresult.shape[0])\n",
        "print('Fit on the training data')\n",
        "clf.fit(X_train, y_train, eval_metric='auc')\n",
        "print('Overall AUC:', roc_auc_score(y_train, clf.predict_proba(X_train)[:,1]))\n",
        "print('Predict the probabilities based on features in the test set')\n",
        "pred = clf.predict_proba(X_test, ntree_limit=cvresult.shape[0])\n"
      ],
      "execution_count": 106,
      "outputs": [
        {
          "output_type": "stream",
          "text": [
            "Start cross validation\n",
            "Best number of trees = 388\n",
            "Fit on the training data\n",
            "Overall AUC: 0.9983240964345277\n",
            "Predict the probabilities based on features in the test set\n"
          ],
          "name": "stdout"
        }
      ]
    },
    {
      "cell_type": "code",
      "metadata": {
        "id": "HwWVFVPDDrZc",
        "colab_type": "code",
        "colab": {
          "base_uri": "https://localhost:8080/",
          "height": 136
        },
        "outputId": "f01470d3-7471-4c07-8c28-cb170a0238f7"
      },
      "source": [
        "print(\"cross validated model training accuracy: %.2f%%\" % (metrics.accuracy_score(y_train, clf.predict(X_train)) * 100.0))\n",
        "print(\"cross validated model testing accuracy: %.2f%%\" % (metrics.accuracy_score(y_test, clf.predict(X_test)) * 100.0))\n",
        "\n",
        "print(metrics.confusion_matrix(y_test, clf.predict(X_test)))\n",
        "y_test.value_counts()"
      ],
      "execution_count": 127,
      "outputs": [
        {
          "output_type": "stream",
          "text": [
            "cross validated model training accuracy: 98.68%\n",
            "cross validated model testing accuracy: 97.37%\n",
            "[[8160   78]\n",
            " [ 176 1231]]\n"
          ],
          "name": "stdout"
        },
        {
          "output_type": "execute_result",
          "data": {
            "text/plain": [
              "0    8238\n",
              "1    1407\n",
              "Name: Target, dtype: int64"
            ]
          },
          "metadata": {
            "tags": []
          },
          "execution_count": 127
        }
      ]
    },
    {
      "cell_type": "code",
      "metadata": {
        "id": "7E07sB7-pvXL",
        "colab_type": "code",
        "colab": {
          "base_uri": "https://localhost:8080/",
          "height": 295
        },
        "outputId": "aed08c9b-8188-49fb-e179-68533f18a7d2"
      },
      "source": [
        "xgb.plot_importance(clf, max_num_features=50, height=0.8)\n",
        "plt.show()"
      ],
      "execution_count": 125,
      "outputs": [
        {
          "output_type": "display_data",
          "data": {
            "image/png": "[encoded data removed]",
            "text/plain": [
              "<Figure size 432x288 with 1 Axes>"
            ]
          },
          "metadata": {
            "tags": []
          }
        }
      ]
    },
    {
      "cell_type": "code",
      "metadata": {
        "id": "D6FL2YtXKclK",
        "colab_type": "code",
        "colab": {
          "base_uri": "https://localhost:8080/",
          "height": 286
        },
        "outputId": "c7b7a089-34c1-4fd9-8dd9-9b3bf2d6028e"
      },
      "source": [
        "from sklearn.metrics import roc_curve\n",
        "from sklearn.metrics import roc_auc_score\n",
        "from matplotlib import pyplot\n",
        "probs = clf.predict_proba(X_test)\n",
        "# keep probabilities for the positive outcome only\n",
        "probs = probs[:, 1]\n",
        "# calculate AUC\n",
        "auc = roc_auc_score(y_test, probs)\n",
        "print('AUC: %.3f' % auc)\n",
        "# calculate roc curve\n",
        "fpr, tpr, thresholds = roc_curve(y_test, probs)\n",
        "# plot no skill\n",
        "pyplot.plot([0, 1], [0, 1], linestyle='--')\n",
        "# plot the roc curve for the model\n",
        "pyplot.plot(fpr, tpr, marker='.')\n",
        "# show the plot\n",
        "pyplot.show()"
      ],
      "execution_count": 132,
      "outputs": [
        {
          "output_type": "stream",
          "text": [
            "AUC: 0.990\n"
          ],
          "name": "stdout"
        },
        {
          "output_type": "display_data",
          "data": {
            "image/png": "[encoded data removed]",
            "text/plain": [
              "<Figure size 432x288 with 1 Axes>"
            ]
          },
          "metadata": {
            "tags": []
          }
        }
      ]
    },
    {
      "cell_type": "markdown",
      "metadata": {
        "id": "pnKKSW-bIOU0",
        "colab_type": "text"
      },
      "source": [
        "**As seen above, the model that was crossvalidated in training has very little variation between training and testing accuracies. The accuracy score is also very good. This model is suitable for deployment.**"
      ]
    }
  ]
}
